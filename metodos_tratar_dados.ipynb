{
 "cells": [
  {
   "cell_type": "markdown",
   "metadata": {},
   "source": [
    "# Métodos mais usados para tratar dados"
   ]
  },
  {
   "cell_type": "markdown",
   "metadata": {},
   "source": [
    "### Ler e printar CSV"
   ]
  },
  {
   "cell_type": "code",
   "execution_count": null,
   "metadata": {},
   "outputs": [],
   "source": [
    "df = pd.read_csv('data/SINAN_original.csv', sep=';', low_memory=False)\n",
    "df.head()"
   ]
  },
  {
   "cell_type": "markdown",
   "metadata": {},
   "source": [
    "### Inserindo coluna de outro dataframe"
   ]
  },
  {
   "cell_type": "code",
   "execution_count": null,
   "metadata": {},
   "outputs": [],
   "source": [
    "https://stackoverflow.com/questions/46396257/adding-a-new-column-in-pandas-dataframe-from-another-dataframe-with-differing-in"
   ]
  },
  {
   "cell_type": "markdown",
   "metadata": {},
   "source": [
    "### Renomear colunas"
   ]
  },
  {
   "cell_type": "code",
   "execution_count": null,
   "metadata": {},
   "outputs": [],
   "source": [
    "df.rename({\n",
    "    'VIOL_FISIC': 'Violência Física',\n",
    "    'VIOL_PSICO': 'Violência Psicológica',\n",
    "    'VIOL_TORT': 'Tortura',\n",
    "    'VIOL_SEXU': 'Violência Sexual',\n",
    "    'VIOL_TRAF': 'Tráfico de seres humanos',\n",
    "    'VIOL_FINAN': 'Violência financeira/econômica',\n",
    "    'VIOL_NEGLI': 'Negligencia/ abandono',\n",
    "    'VIOL_INFAN': 'Trabalho infantil',\n",
    "    'VIOL_LEGAL': 'Intervenção legal',\n",
    "    'VIOL_OUTR': 'Outros tipos de violência',\n",
    "}, axis=1, inplace=True)\n"
   ]
  },
  {
   "cell_type": "markdown",
   "metadata": {},
   "source": [
    "### Criar nova coluna"
   ]
  },
  {
   "cell_type": "code",
   "execution_count": 1,
   "metadata": {},
   "outputs": [
    {
     "ename": "NameError",
     "evalue": "name 'df' is not defined",
     "output_type": "error",
     "traceback": [
      "\u001b[0;31m---------------------------------------------------------------------------\u001b[0m",
      "\u001b[0;31mNameError\u001b[0m                                 Traceback (most recent call last)",
      "\u001b[0;32m<ipython-input-1-e2352acc2104>\u001b[0m in \u001b[0;36m<module>\u001b[0;34m\u001b[0m\n\u001b[0;32m----> 1\u001b[0;31m \u001b[0mdf\u001b[0m\u001b[0;34m[\u001b[0m\u001b[0;34m'tipo_de_violencia'\u001b[0m\u001b[0;34m]\u001b[0m \u001b[0;34m=\u001b[0m \u001b[0;34m\"\"\u001b[0m\u001b[0;34m\u001b[0m\u001b[0;34m\u001b[0m\u001b[0m\n\u001b[0m",
      "\u001b[0;31mNameError\u001b[0m: name 'df' is not defined"
     ]
    }
   ],
   "source": [
    "df['tipo_de_violencia'] = \"\""
   ]
  },
  {
   "cell_type": "markdown",
   "metadata": {},
   "source": [
    "### Filtrar tipos NaN e colocar String com 'Sem dados' no lugar"
   ]
  },
  {
   "cell_type": "code",
   "execution_count": null,
   "metadata": {},
   "outputs": [],
   "source": [
    "df[list(df.filter(like='anos_idade'))] = df[list(df.filter(like='anos_idade'))].fillna('Sem dados')\n",
    "df[list(df.filter(like='sexo'))] = df[list(df.filter(like='sexo'))].fillna('Sem dados')"
   ]
  },
  {
   "cell_type": "markdown",
   "metadata": {},
   "source": [
    "### Transforma uma coluna em apenas um tipo de dado"
   ]
  },
  {
   "cell_type": "code",
   "execution_count": null,
   "metadata": {},
   "outputs": [],
   "source": [
    "locations['longitude'] = locations['longitude'].astype('float')\n",
    "locations['latitude'] = locations['latitude'].astype('float')\n",
    "locations.dtypes"
   ]
  },
  {
   "cell_type": "markdown",
   "metadata": {},
   "source": [
    "### Se tiver algum valor de coluna for 'Sim', então mova o nome da coluna que tem 'Sim' para ser um valor de coluna de 'tipo_da_violencia'"
   ]
  },
  {
   "cell_type": "code",
   "execution_count": null,
   "metadata": {},
   "outputs": [],
   "source": [
    "for c in list(df.filter(like='Viol')):\n",
    "    df['tipo_de_violencia'] = df['tipo_de_violencia'] + ' ' + df[c].replace('Sim', c)"
   ]
  },
  {
   "cell_type": "markdown",
   "metadata": {},
   "source": [
    "### Mudar valores de coluna com 'Não' para ' ' (String vazia)"
   ]
  },
  {
   "cell_type": "code",
   "execution_count": null,
   "metadata": {},
   "outputs": [],
   "source": [
    "df['tipo_de_violencia'] = [str(x).replace('Nao', '') for x in df['tipo_de_violencia']]"
   ]
  },
  {
   "cell_type": "markdown",
   "metadata": {},
   "source": [
    "### Tirar espaços do valor da coluna"
   ]
  },
  {
   "cell_type": "code",
   "execution_count": null,
   "metadata": {},
   "outputs": [],
   "source": [
    "df['tipo_de_violencia'] = [' '.join(str(x).split()) for x in df['tipo_de_violencia']]"
   ]
  },
  {
   "cell_type": "markdown",
   "metadata": {},
   "source": [
    "### Remover colunas"
   ]
  },
  {
   "cell_type": "code",
   "execution_count": null,
   "metadata": {},
   "outputs": [],
   "source": [
    "df.drop(columns=[\n",
    "        'Violência Física',\n",
    "        'Violência Psicológica',\n",
    "        'Tortura',\n",
    "        'Violência Sexual',\n",
    "        'Tráfico de seres humanos',\n",
    "        'Violência financeira/econômica',\n",
    "        'Negligencia/ abandono',\n",
    "        'Trabalho infantil',\n",
    "        'Outros tipos de violência'], axis=1, inplace=True)"
   ]
  },
  {
   "cell_type": "markdown",
   "metadata": {},
   "source": [
    "### Transforma as palavras de um valor de coluna em tipo Dict e remove as palavras repetidas\n",
    "Importante também remover os espaços que sobraram, por isso dou um join novamente."
   ]
  },
  {
   "cell_type": "code",
   "execution_count": null,
   "metadata": {},
   "outputs": [],
   "source": [
    "def unique_list(l):\n",
    "    ulist = []\n",
    "    [ulist.append(x) for x in l if x not in ulist]\n",
    "    return ulist\n",
    "\n",
    "df['tipo_de_violencia'] = [unique_list(str(x).split()) for x in df['tipo_de_violencia']]\n",
    "df['meio_da_agressao'] = [' '.join(list(x)) for x in df['meio_da_agressao']]"
   ]
  },
  {
   "cell_type": "markdown",
   "metadata": {},
   "source": [
    "### Filtra nas colunas `identidade_de_genero` valores diferentes de `Sem dados` ou em `orientacao_sexual` diferente de `Heterossexual` ou `Sem Dados`."
   ]
  },
  {
   "cell_type": "code",
   "execution_count": null,
   "metadata": {},
   "outputs": [],
   "source": [
    "df_filtered = df.loc[(df['identidade_de_genero'] != 'Sem dados') | (~df['orientacao_sexual'].isin(['Heterossexual', 'Sem dados']))]"
   ]
  },
  {
   "cell_type": "markdown",
   "metadata": {},
   "source": [
    "### Reorganizar colunas\n",
    "Funciona apenas quando o dataframe já está sendo utilizado."
   ]
  },
  {
   "cell_type": "code",
   "execution_count": null,
   "metadata": {},
   "outputs": [],
   "source": [
    "df_reorganized = df[['col3', 'col2', 'col1']]\n",
    "df_reorganized.to_csv('algumacoisa.csv')"
   ]
  },
  {
   "cell_type": "markdown",
   "metadata": {},
   "source": [
    "### Salvar com o formato CSV (delimitador `,` como default)"
   ]
  },
  {
   "cell_type": "code",
   "execution_count": null,
   "metadata": {},
   "outputs": [],
   "source": [
    "df.to_csv('algumacoisa.csv')"
   ]
  },
  {
   "cell_type": "code",
   "execution_count": 1,
   "metadata": {},
   "outputs": [
    {
     "data": {
      "text/plain": [
       "40"
      ]
     },
     "execution_count": 1,
     "metadata": {},
     "output_type": "execute_result"
    }
   ],
   "source": [
    "int(40.0)"
   ]
  },
  {
   "cell_type": "markdown",
   "metadata": {},
   "source": [
    "### Um valor apenas pra coluna inteira"
   ]
  },
  {
   "cell_type": "code",
   "execution_count": null,
   "metadata": {},
   "outputs": [],
   "source": [
    "df['industry'] = 'yyy'"
   ]
  }
 ],
 "metadata": {
  "kernelspec": {
   "display_name": "Python 3",
   "language": "python",
   "name": "python3"
  },
  "language_info": {
   "codemirror_mode": {
    "name": "ipython",
    "version": 3
   },
   "file_extension": ".py",
   "mimetype": "text/x-python",
   "name": "python",
   "nbconvert_exporter": "python",
   "pygments_lexer": "ipython3",
   "version": "3.7.4"
  }
 },
 "nbformat": 4,
 "nbformat_minor": 2
}
